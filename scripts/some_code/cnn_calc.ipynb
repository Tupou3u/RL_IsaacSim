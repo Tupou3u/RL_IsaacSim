{
 "cells": [
  {
   "cell_type": "code",
   "execution_count": 3,
   "metadata": {},
   "outputs": [],
   "source": [
    "import torch\n",
    "from torch import nn\n",
    "import time"
   ]
  },
  {
   "cell_type": "code",
   "execution_count": 15,
   "metadata": {},
   "outputs": [],
   "source": [
    "num_actor_obs = 49 * 16\n",
    "actor_hidden_dims = [128, 128, 128]\n",
    "num_actions = 12\n",
    "activation = nn.ELU()\n",
    "kernel_sizes = [3, 5, 5, 5, 5]\n",
    "strides = [3, 2, 2, 2, 2, 2]\n",
    "filters = [32, 32, 32, 16, 8]\n",
    "paddings = [1, 2, 2, 2, 2] \n",
    "dilations = [1, 1, 1, 1, 1]\n",
    "\n",
    "out_channels = filters[:]\n",
    "in_channels = [1] + filters[:-1]"
   ]
  },
  {
   "cell_type": "code",
   "execution_count": 16,
   "metadata": {},
   "outputs": [
    {
     "data": {
      "text/plain": [
       "torch.Size([128, 784])"
      ]
     },
     "execution_count": 16,
     "metadata": {},
     "output_type": "execute_result"
    }
   ],
   "source": [
    "obs = torch.rand(128, num_actor_obs)\n",
    "obs.shape"
   ]
  },
  {
   "cell_type": "code",
   "execution_count": 17,
   "metadata": {},
   "outputs": [
    {
     "name": "stdout",
     "output_type": "stream",
     "text": [
      "262 8384\n",
      "True\n",
      "131 4192\n",
      "True\n",
      "66 2112\n",
      "True\n",
      "33 528\n",
      "True\n",
      "17 136\n",
      "True\n",
      "136\n"
     ]
    }
   ],
   "source": [
    "actor_layers = []\n",
    "mlp_input_dim_a = num_actor_obs\n",
    "for in_ch, out_ch, kernel_size, stride, padding, dilation in zip(in_channels, out_channels, kernel_sizes, strides, paddings, dilations):\n",
    "    actor_layers.append(nn.Conv1d(\n",
    "        in_channels=in_ch,\n",
    "        out_channels=out_ch,\n",
    "        kernel_size=kernel_size,\n",
    "        stride=stride,\n",
    "        padding=padding,\n",
    "        dilation=dilation\n",
    "    ))\n",
    "    actor_layers.append(activation)\n",
    "    print((mlp_input_dim_a + 2 * padding - dilation * (kernel_size - 1) - 1) // stride + 1, ((mlp_input_dim_a + 2 * padding - dilation * (kernel_size - 1) - 1) // stride + 1) * out_ch)\n",
    "    print(((mlp_input_dim_a + 2 * padding - dilation * (kernel_size - 1) - 1) // stride + 1) * stride >= mlp_input_dim_a) \n",
    "    mlp_input_dim_a = (mlp_input_dim_a + 2 * padding - dilation * (kernel_size - 1) - 1) // stride + 1\n",
    "\n",
    "actor_layers.append(nn.Flatten())\n",
    "mlp_input_dim_a = mlp_input_dim_a * out_channels[-1]\n",
    "print(mlp_input_dim_a)\n",
    "\n",
    "actor_layers.append(nn.Linear(mlp_input_dim_a, actor_hidden_dims[0]))\n",
    "actor_layers.append(activation)\n",
    "for layer_index in range(len(actor_hidden_dims)):\n",
    "    if layer_index == len(actor_hidden_dims) - 1:\n",
    "        actor_layers.append(nn.Linear(actor_hidden_dims[layer_index], num_actions))\n",
    "    else:\n",
    "        actor_layers.append(nn.Linear(actor_hidden_dims[layer_index], actor_hidden_dims[layer_index + 1]))\n",
    "        actor_layers.append(activation)\n",
    "actor = nn.Sequential(*actor_layers)"
   ]
  },
  {
   "cell_type": "code",
   "execution_count": 11,
   "metadata": {},
   "outputs": [
    {
     "data": {
      "text/plain": [
       "63716"
      ]
     },
     "execution_count": 11,
     "metadata": {},
     "output_type": "execute_result"
    }
   ],
   "source": [
    "sum([p.numel() for p in actor.parameters()])"
   ]
  },
  {
   "cell_type": "code",
   "execution_count": null,
   "metadata": {},
   "outputs": [
    {
     "name": "stdout",
     "output_type": "stream",
     "text": [
      "16.193702697753906\n"
     ]
    }
   ],
   "source": [
    "start = time.time()\n",
    "\n",
    "num_actor_obs = 45 * 100\n",
    "batch_size = 8192\n",
    "device = torch.device('cuda')\n",
    "\n",
    "actor = actor.to(device)\n",
    "\n",
    "for _ in range(100):\n",
    "    obs = torch.rand(batch_size, num_actor_obs).to(device)\n",
    "    with torch.no_grad():\n",
    "        out = actor(obs.unsqueeze(1))\n",
    "\n",
    "\n",
    "print(time.time() - start)"
   ]
  },
  {
   "cell_type": "code",
   "execution_count": 55,
   "metadata": {},
   "outputs": [
    {
     "name": "stdout",
     "output_type": "stream",
     "text": [
      "4500\n"
     ]
    }
   ],
   "source": [
    "num_actor_obs_h = 100\n",
    "num_actor_obs_w = 45\n",
    "\n",
    "print(num_actor_obs_h * num_actor_obs_w)\n",
    "\n",
    "actor_hidden_dims = [128, 128, 128]\n",
    "num_actions = 12\n",
    "activation = nn.ELU()\n",
    "# kernel_sizes = [(4, 1), (4, 1), (4, 1), (1, 3), (1, 3)]\n",
    "# strides = [(2, 1), (2, 1), (2, 1), (1, 3), (1, 3)]\n",
    "# filters = [32, 32, 32, 32, 32]\n",
    "# paddings = [(1, 0), (1, 0), (0, 0), (0, 0), (0, 0)]\n",
    "# dilations = [(1, 1), (1, 1), (1, 1), (1, 1), (1, 1)]\n",
    "# kernel_sizes = [(1, 3), (1, 3), (4, 1), (4, 1), (4, 1)]\n",
    "# strides = [(1, 3), (1, 3), (2, 1), (2, 1), (2, 1)]\n",
    "# filters = [64, 64, 64, 64, 32]\n",
    "# paddings = [(0, 0), (0, 0), (1, 0), (1, 0), (0, 0)]\n",
    "# dilations = [(1, 1), (1, 1), (1, 1), (1, 1), (1, 1)]\n",
    "kernel_sizes = [(5, 3), (5, 5), (5, 5), (5, 1)]\n",
    "strides = [(2, 3), (2, 2), (2, 2), (2, 1)]\n",
    "filters = [128, 64, 32, 16]\n",
    "paddings = [(2, 0), (2, 2), (2, 2), (2, 0)]\n",
    "dilations = [(1, 1), (1, 1), (1, 1), (1, 1)]\n",
    "\n",
    "out_channels = filters[:]\n",
    "in_channels = [1] + filters[:-1]"
   ]
  },
  {
   "cell_type": "code",
   "execution_count": 56,
   "metadata": {},
   "outputs": [],
   "source": [
    "obs = torch.rand(10, num_actor_obs_h, num_actor_obs_w)"
   ]
  },
  {
   "cell_type": "code",
   "execution_count": 57,
   "metadata": {},
   "outputs": [
    {
     "name": "stdout",
     "output_type": "stream",
     "text": [
      "out_h: 50 out_w: 15 total: 96000\n",
      "pad_h: (100, True) pad_w: (45, True)\n",
      "out_h: 25 out_w: 8 total: 12800\n",
      "pad_h: (50, True) pad_w: (16, True)\n",
      "out_h: 13 out_w: 4 total: 1664\n",
      "pad_h: (26, True) pad_w: (8, True)\n",
      "out_h: 7 out_w: 4 total: 448\n",
      "pad_h: (14, True) pad_w: (4, True)\n",
      "448\n"
     ]
    }
   ],
   "source": [
    "actor_layers = []\n",
    "\n",
    "out_h = num_actor_obs_h\n",
    "out_w = num_actor_obs_w\n",
    "\n",
    "for in_ch, out_ch, kernel_size, stride, padding, dilation in zip(in_channels, out_channels, kernel_sizes, strides, paddings, dilations):\n",
    "    actor_layers.append(nn.Conv2d(\n",
    "        in_channels=in_ch,\n",
    "        out_channels=out_ch,\n",
    "        kernel_size=kernel_size,\n",
    "        stride=stride,\n",
    "        padding=padding,\n",
    "        dilation=dilation\n",
    "    ))\n",
    "    actor_layers.append(activation)\n",
    "    last_h = out_h\n",
    "    last_w = out_w\n",
    "    out_h = (out_h + 2 * padding[0] - dilation[0] * (kernel_size[0] - 1) - 1) // stride[0] + 1\n",
    "    out_w = (out_w + 2 * padding[1] - dilation[1] * (kernel_size[1] - 1) - 1) // stride[1] + 1\n",
    "\n",
    "    print(f'out_h: {out_h} out_w: {out_w} total: {out_h * out_w * out_ch}')\n",
    "    print(f'pad_h: {out_h * stride[0], out_h * stride[0] >= last_h} pad_w: {out_w * stride[1], out_w * stride[1] >= last_w}')\n",
    "\n",
    "actor_layers.append(nn.Flatten())\n",
    "mlp_input_dim_a = out_h * out_w * out_channels[-1]\n",
    "\n",
    "print(mlp_input_dim_a)\n",
    "\n",
    "actor_layers.append(nn.Linear(mlp_input_dim_a, actor_hidden_dims[0]))\n",
    "actor_layers.append(activation)\n",
    "for layer_index in range(len(actor_hidden_dims)):\n",
    "    if layer_index == len(actor_hidden_dims) - 1:\n",
    "        actor_layers.append(nn.Linear(actor_hidden_dims[layer_index], num_actions))\n",
    "    else:\n",
    "        actor_layers.append(nn.Linear(actor_hidden_dims[layer_index], actor_hidden_dims[layer_index + 1]))\n",
    "        actor_layers.append(activation)\n",
    "actor = nn.Sequential(*actor_layers)"
   ]
  },
  {
   "cell_type": "code",
   "execution_count": 340,
   "metadata": {},
   "outputs": [
    {
     "data": {
      "text/plain": [
       "108908"
      ]
     },
     "execution_count": 340,
     "metadata": {},
     "output_type": "execute_result"
    }
   ],
   "source": [
    "sum([p.numel() for p in actor.parameters()])"
   ]
  },
  {
   "cell_type": "code",
   "execution_count": 14,
   "metadata": {},
   "outputs": [
    {
     "name": "stdout",
     "output_type": "stream",
     "text": [
      "5.8920578956604\n"
     ]
    }
   ],
   "source": [
    "start = time.time()\n",
    "\n",
    "num_actor_obs_h = 20\n",
    "num_actor_obs_w = 45\n",
    "batch_size = 8192\n",
    "device = torch.device('cuda')\n",
    "\n",
    "actor = actor.to(device)\n",
    "\n",
    "for _ in range(100):\n",
    "    obs = torch.rand(batch_size, num_actor_obs_h, num_actor_obs_w).to(device)\n",
    "    with torch.no_grad():\n",
    "        out = actor(obs.unsqueeze(1))\n",
    "\n",
    "print(time.time() - start)"
   ]
  },
  {
   "cell_type": "code",
   "execution_count": 136,
   "metadata": {},
   "outputs": [],
   "source": [
    "a = torch.rand(100, 10, 45)"
   ]
  },
  {
   "cell_type": "code",
   "execution_count": 137,
   "metadata": {},
   "outputs": [
    {
     "data": {
      "text/plain": [
       "torch.Size([100, 450])"
      ]
     },
     "execution_count": 137,
     "metadata": {},
     "output_type": "execute_result"
    }
   ],
   "source": [
    "a.reshape(a.shape[0], -1).shape"
   ]
  },
  {
   "cell_type": "code",
   "execution_count": null,
   "metadata": {},
   "outputs": [],
   "source": []
  }
 ],
 "metadata": {
  "kernelspec": {
   "display_name": "torch",
   "language": "python",
   "name": "python3"
  },
  "language_info": {
   "codemirror_mode": {
    "name": "ipython",
    "version": 3
   },
   "file_extension": ".py",
   "mimetype": "text/x-python",
   "name": "python",
   "nbconvert_exporter": "python",
   "pygments_lexer": "ipython3",
   "version": "undefined.undefined.undefined"
  }
 },
 "nbformat": 4,
 "nbformat_minor": 2
}
