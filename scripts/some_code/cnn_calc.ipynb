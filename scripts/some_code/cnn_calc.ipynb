{
 "cells": [
  {
   "cell_type": "code",
   "execution_count": 1,
   "metadata": {},
   "outputs": [],
   "source": [
    "import torch\n",
    "from torch import nn"
   ]
  },
  {
   "cell_type": "code",
   "execution_count": 118,
   "metadata": {},
   "outputs": [],
   "source": [
    "num_actor_obs = 45 * 100\n",
    "actor_hidden_dims = [64, 256, 128]\n",
    "num_actions = 12\n",
    "activation = nn.ELU()\n",
    "kernel_sizes = [5, 5, 5, 5, 5]\n",
    "strides = [2, 2, 2, 2, 2]\n",
    "filters = [32, 32, 32, 32, 32]\n",
    "paddings = [2, 2, 2, 2, 2]\n",
    "dilations = [1, 1, 1, 1, 1]\n",
    "\n",
    "out_channels = filters[:]\n",
    "in_channels = [1] + filters[:-1]"
   ]
  },
  {
   "cell_type": "code",
   "execution_count": 119,
   "metadata": {},
   "outputs": [
    {
     "data": {
      "text/plain": [
       "torch.Size([128, 4500])"
      ]
     },
     "execution_count": 119,
     "metadata": {},
     "output_type": "execute_result"
    }
   ],
   "source": [
    "obs = torch.rand(128, num_actor_obs)\n",
    "obs.shape"
   ]
  },
  {
   "cell_type": "code",
   "execution_count": 120,
   "metadata": {},
   "outputs": [
    {
     "name": "stdout",
     "output_type": "stream",
     "text": [
      "2250 72000\n",
      "True\n",
      "1125 36000\n",
      "True\n",
      "563 18016\n",
      "True\n",
      "282 9024\n",
      "True\n",
      "141 4512\n",
      "True\n",
      "4512\n"
     ]
    }
   ],
   "source": [
    "actor_layers = []\n",
    "mlp_input_dim_a = num_actor_obs\n",
    "for in_ch, out_ch, kernel_size, stride, padding, dilation in zip(in_channels, out_channels, kernel_sizes, strides, paddings, dilations):\n",
    "    actor_layers.append(nn.Conv1d(\n",
    "        in_channels=in_ch,\n",
    "        out_channels=out_ch,\n",
    "        kernel_size=kernel_size,\n",
    "        stride=stride,\n",
    "        padding=padding,\n",
    "        dilation=dilation\n",
    "    ))\n",
    "    actor_layers.append(activation)\n",
    "    print((mlp_input_dim_a + 2 * padding - dilation * (kernel_size - 1) - 1) // stride + 1, ((mlp_input_dim_a + 2 * padding - dilation * (kernel_size - 1) - 1) // stride + 1) * out_ch)\n",
    "    print(((mlp_input_dim_a + 2 * padding - dilation * (kernel_size - 1) - 1) // stride + 1) * stride >= mlp_input_dim_a) \n",
    "    mlp_input_dim_a = (mlp_input_dim_a + 2 * padding - dilation * (kernel_size - 1) - 1) // stride + 1\n",
    "\n",
    "actor_layers.append(nn.Flatten())\n",
    "mlp_input_dim_a = mlp_input_dim_a * out_channels[-1]\n",
    "print(mlp_input_dim_a)\n",
    "\n",
    "actor_layers.append(nn.Linear(mlp_input_dim_a, actor_hidden_dims[0]))\n",
    "actor_layers.append(activation)\n",
    "for layer_index in range(len(actor_hidden_dims)):\n",
    "    if layer_index == len(actor_hidden_dims) - 1:\n",
    "        actor_layers.append(nn.Linear(actor_hidden_dims[layer_index], num_actions))\n",
    "    else:\n",
    "        actor_layers.append(nn.Linear(actor_hidden_dims[layer_index], actor_hidden_dims[layer_index + 1]))\n",
    "        actor_layers.append(activation)\n",
    "actor = nn.Sequential(*actor_layers)"
   ]
  },
  {
   "cell_type": "code",
   "execution_count": 121,
   "metadata": {},
   "outputs": [
    {
     "data": {
      "text/plain": [
       "360716"
      ]
     },
     "execution_count": 121,
     "metadata": {},
     "output_type": "execute_result"
    }
   ],
   "source": [
    "sum([p.numel() for p in actor.parameters()])"
   ]
  },
  {
   "cell_type": "code",
   "execution_count": 151,
   "metadata": {},
   "outputs": [],
   "source": [
    "num_actor_obs_h = 10\n",
    "num_actor_obs_w = 45\n",
    "\n",
    "actor_hidden_dims = [64, 256, 128]\n",
    "num_actions = 12\n",
    "activation = nn.ELU()\n",
    "kernel_sizes = [(5, 5), (5, 5), (5, 5), (5, 5)]\n",
    "strides = [(2, 2), (2, 2), (2, 2), (2, 2)]\n",
    "filters = [32, 32, 32, 32]\n",
    "paddings = [(2, 2), (2, 2), (2, 2), (2, 2)]\n",
    "dilations = [(1, 1), (1, 1), (1, 1), (1, 1)]\n",
    "\n",
    "out_channels = filters[:]\n",
    "in_channels = [1] + filters[:-1]"
   ]
  },
  {
   "cell_type": "code",
   "execution_count": 156,
   "metadata": {},
   "outputs": [],
   "source": [
    "obs = torch.rand(10, num_actor_obs_h, num_actor_obs_w)"
   ]
  },
  {
   "cell_type": "code",
   "execution_count": null,
   "metadata": {},
   "outputs": [
    {
     "name": "stdout",
     "output_type": "stream",
     "text": [
      "out_h: 5 out_w: 23 total: 3680\n",
      "pad_h: (10, True) pad_w: True\n",
      "out_h: 3 out_w: 12 total: 1152\n",
      "pad_h: (6, True) pad_w: True\n",
      "out_h: 2 out_w: 6 total: 384\n",
      "pad_h: (4, True) pad_w: True\n",
      "out_h: 1 out_w: 3 total: 96\n",
      "pad_h: (2, True) pad_w: True\n",
      "96\n"
     ]
    }
   ],
   "source": [
    "actor_layers = []\n",
    "out_w = num_actor_obs_w\n",
    "out_h = num_actor_obs_h\n",
    "\n",
    "for in_ch, out_ch, kernel_size, stride, padding, dilation in zip(in_channels, out_channels, kernel_sizes, strides, paddings, dilations):\n",
    "    actor_layers.append(nn.Conv2d(\n",
    "        in_channels=in_ch,\n",
    "        out_channels=out_ch,\n",
    "        kernel_size=kernel_size,\n",
    "        stride=stride,\n",
    "        padding=padding,\n",
    "        dilation=dilation\n",
    "    ))\n",
    "    actor_layers.append(activation)\n",
    "    last_h = out_h\n",
    "    last_w = out_w\n",
    "    out_h = (out_h + 2 * padding[0] - dilation[0] * (kernel_size[0] - 1) - 1) // stride[0] + 1\n",
    "    out_w = (out_w + 2 * padding[1] - dilation[1] * (kernel_size[1] - 1) - 1) // stride[1] + 1\n",
    "\n",
    "    print(f'out_h: {out_h} out_w: {out_w} total: {out_h * out_w * out_ch}')\n",
    "    print(f'pad_h: {out_h * stride[0], out_h * stride[0] >= last_h} pad_w: {out_w * stride[1], out_w * stride[1] >= last_w}')\n",
    "\n",
    "actor_layers.append(nn.Flatten())\n",
    "mlp_input_dim_a = out_h * out_w * out_channels[-1]\n",
    "\n",
    "print(mlp_input_dim_a)\n",
    "\n",
    "actor_layers.append(nn.Linear(mlp_input_dim_a, actor_hidden_dims[0]))\n",
    "actor_layers.append(activation)\n",
    "for layer_index in range(len(actor_hidden_dims)):\n",
    "    if layer_index == len(actor_hidden_dims) - 1:\n",
    "        actor_layers.append(nn.Linear(actor_hidden_dims[layer_index], num_actions))\n",
    "    else:\n",
    "        actor_layers.append(nn.Linear(actor_hidden_dims[layer_index], actor_hidden_dims[layer_index + 1]))\n",
    "        actor_layers.append(activation)\n",
    "actor = nn.Sequential(*actor_layers)"
   ]
  },
  {
   "cell_type": "code",
   "execution_count": 158,
   "metadata": {},
   "outputs": [
    {
     "data": {
      "text/plain": [
       "135020"
      ]
     },
     "execution_count": 158,
     "metadata": {},
     "output_type": "execute_result"
    }
   ],
   "source": [
    "sum([p.numel() for p in actor.parameters()])"
   ]
  },
  {
   "cell_type": "code",
   "execution_count": 162,
   "metadata": {},
   "outputs": [
    {
     "data": {
      "text/plain": [
       "torch.Size([10, 12])"
      ]
     },
     "execution_count": 162,
     "metadata": {},
     "output_type": "execute_result"
    }
   ],
   "source": [
    "actor(obs.unsqueeze(1)).shape"
   ]
  },
  {
   "cell_type": "code",
   "execution_count": null,
   "metadata": {},
   "outputs": [],
   "source": []
  }
 ],
 "metadata": {
  "kernelspec": {
   "display_name": "torch",
   "language": "python",
   "name": "python3"
  },
  "language_info": {
   "codemirror_mode": {
    "name": "ipython",
    "version": 3
   },
   "file_extension": ".py",
   "mimetype": "text/x-python",
   "name": "python",
   "nbconvert_exporter": "python",
   "pygments_lexer": "ipython3",
   "version": "3.12.8"
  }
 },
 "nbformat": 4,
 "nbformat_minor": 2
}
