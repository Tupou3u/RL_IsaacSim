{
 "cells": [
  {
   "cell_type": "code",
   "execution_count": 3,
   "id": "05d31073",
   "metadata": {},
   "outputs": [],
   "source": [
    "import numpy as np"
   ]
  },
  {
   "cell_type": "code",
   "execution_count": 4,
   "id": "0d32043f",
   "metadata": {},
   "outputs": [],
   "source": [
    "L1 = 0.067\n",
    "L2 = 0.213\n",
    "L3 = 0.210\n",
    "L4 = 0.094\n",
    "\n",
    "R_x = lambda q: np.array([\n",
    "    [1, 0, 0],\n",
    "    [0, np.cos(q), -np.sin(q)],\n",
    "    [0, np.sin(q), np.cos(q)]\n",
    "])\n",
    "R_y = lambda q: np.array([\n",
    "    [np.cos(q), 0, np.sin(q)],\n",
    "    [0, 1, 0],\n",
    "    [-np.sin(q), 0, np.cos(q)]\n",
    "])\n",
    "R_z = lambda q: np.array([\n",
    "    [np.cos(q), -np.sin(q), 0],\n",
    "    [np.sin(q), np.cos(q), 0],\n",
    "    [0, 0, 1]\n",
    "])"
   ]
  },
  {
   "cell_type": "code",
   "execution_count": 337,
   "id": "32e696aa",
   "metadata": {},
   "outputs": [],
   "source": [
    "def forward_kinematics(q1, q2, q3):\n",
    "    q1 = 0 + q1\n",
    "    q2 = 0 + q2\n",
    "    q3 = np.pi / 2 + q3\n",
    "    R1 = R_x(q1)\n",
    "    T1 = np.array([\n",
    "        [R1[0, 0], R1[0, 1], R1[0, 2], L1],\n",
    "        [R1[1, 0], R1[1, 1], R1[1, 2], 0],\n",
    "        [R1[2, 0], R1[2, 1], R1[2, 2], 0],\n",
    "        [0, 0, 0, 1]\n",
    "    ])\n",
    "    R2 = R_y(q2)\n",
    "    T2 = np.array([\n",
    "        [R2[0, 0], R2[0, 1], R2[0, 2], 0],\n",
    "        [R2[1, 0], R2[1, 1], R2[1, 2], L4],\n",
    "        [R2[2, 0], R2[2, 1], R2[2, 2], 0],\n",
    "        [0, 0, 0, 1]\n",
    "    ])\n",
    "    R3 = R_y(q3)\n",
    "    T3 = np.array([\n",
    "        [R3[0, 0], R3[0, 1], R3[0, 2], 0], \n",
    "        [R3[1, 0], R3[1, 1], R3[1, 2], 0],\n",
    "        [R3[2, 0], R3[2, 1], R3[2, 2], L2], \n",
    "        [0, 0, 0, 1]\n",
    "    ])\n",
    "    T4 = np.array([\n",
    "        [1, 0, 0, 0], \n",
    "        [0, 1, 0, 0],\n",
    "        [0, 0, 1, L3], \n",
    "        [0, 0, 0, 1]\n",
    "    ])\n",
    "    return (T1 @ T2 @ T3 @ T4 @ np.array([0, 0, 0, 1]))[:-1]"
   ]
  },
  {
   "cell_type": "code",
   "execution_count": 356,
   "id": "03f081b0",
   "metadata": {},
   "outputs": [
    {
     "data": {
      "text/plain": [
       "array([ 0.2458229 ,  0.15051624, -0.11547061])"
      ]
     },
     "execution_count": 356,
     "metadata": {},
     "output_type": "execute_result"
    }
   ],
   "source": [
    "forward_kinematics(0.39798795664719266, 1.367049062085394, 0.34599434231770004)"
   ]
  },
  {
   "cell_type": "code",
   "execution_count": 357,
   "id": "4c1d13da",
   "metadata": {},
   "outputs": [
    {
     "data": {
      "text/plain": [
       "-0.7853981633974483"
      ]
     },
     "execution_count": 357,
     "metadata": {},
     "output_type": "execute_result"
    }
   ],
   "source": [
    "np.deg2rad(-45)\n",
    "# np.rad2deg(1.9)"
   ]
  },
  {
   "cell_type": "code",
   "execution_count": 376,
   "id": "50df3b72",
   "metadata": {},
   "outputs": [],
   "source": [
    "def inverse_kinematics(x, y, z):\n",
    "    # q1 = np.arctan(y / z) + np.arccos(L4 / np.sqrt(y ** 2 + z ** 2)) - np.pi / 2\n",
    "    q1 = np.arctan(y / z) + np.arccos(L4 / np.sqrt(y ** 2 + z ** 2)) \n",
    "    q3 = np.arcsin((L2**2 + L3**2 + L4**2 - y**2 - z**2 - (x - L1)**2) / (2 * L2 * L3))\n",
    "    A = L3 * np.cos(q3)\n",
    "    B = L2 - L3 * np.sin(q3)\n",
    "    S = np.sqrt(A**2 + B**2)\n",
    "    q2 = np.arctan(B / A) - np.arccos((x - L1) / S)\n",
    "    return np.array([q1, q2, q3])"
   ]
  },
  {
   "cell_type": "code",
   "execution_count": 377,
   "id": "0ca101cf",
   "metadata": {},
   "outputs": [
    {
     "data": {
      "text/plain": [
       "array([ 0.13598312, -0.12205639,  0.34599432])"
      ]
     },
     "execution_count": 377,
     "metadata": {},
     "output_type": "execute_result"
    }
   ],
   "source": [
    "inverse_kinematics(0.2458229 ,  0.15051624, -0.11547061)"
   ]
  },
  {
   "cell_type": "code",
   "execution_count": 343,
   "id": "07962472",
   "metadata": {},
   "outputs": [
    {
     "name": "stdout",
     "output_type": "stream",
     "text": [
      "[ 0.86 -0.    0.  ]\n",
      "[-2.327 -0.761 -0.   ]\n",
      "[-0.813 -0.    -0.   ]\n",
      "[-0.772  0.     0.   ]\n",
      "[-0.392 -0.    -0.   ]\n",
      "[-0.006  0.    -0.   ]\n",
      "[ 0.764  0.    -0.   ]\n",
      "[-0.225 -0.    -0.   ]\n",
      "[ 0.044 -0.     0.   ]\n",
      "[-2.005 -1.085 -0.   ]\n",
      "[-0.654  0.     0.   ]\n",
      "[ 0.782  0.    -0.   ]\n",
      "[-2.433 -0.382 -0.   ]\n",
      "[ 0.325  0.    -0.   ]\n",
      "[ 0.046 -0.     0.   ]\n",
      "[ 0.394 -0.    -0.   ]\n",
      "[ 0.269  0.    -0.   ]\n",
      "[-0.001 -0.    -0.   ]\n",
      "[-0.445 -0.     0.   ]\n",
      "[-0.137  0.    -0.   ]\n",
      "[ 0.17 -0.   -0.  ]\n",
      "[-0.547  0.    -0.   ]\n",
      "[-2.742 -0.     0.   ]\n",
      "[-0.003  0.     0.   ]\n",
      "[-0.071  0.    -0.   ]\n",
      "[ 0.047  0.    -0.   ]\n",
      "[-0.642  0.    -0.   ]\n",
      "[-0.335 -0.     0.   ]\n",
      "[-0.086  0.     0.   ]\n",
      "[-0.043  0.    -0.   ]\n",
      "[-0.056  0.    -0.   ]\n",
      "[ 0.284  0.    -0.   ]\n",
      "[0.676 0.    0.   ]\n",
      "[-0.398  0.    -0.   ]\n",
      "[ 0.631  0.    -0.   ]\n",
      "[-1.737 -1.304 -0.   ]\n",
      "[-1.892 -1.455 -0.   ]\n",
      "[-0.28  0.   -0.  ]\n",
      "[-1.429 -0.574 -0.   ]\n",
      "[-0.308  0.    -0.   ]\n",
      "[-0.818 -0.    -0.   ]\n",
      "[-2.08  -1.903 -0.   ]\n",
      "[-0.365  0.    -0.   ]\n",
      "[-0.173  0.    -0.   ]\n",
      "[ 0.343  0.    -0.   ]\n",
      "[-0.322 -0.    -0.   ]\n",
      "[-0.122 -0.     0.   ]\n",
      "[-0.643 -0.     0.   ]\n",
      "[ 0.175 -0.    -0.   ]\n",
      "[ 0.432  0.    -0.   ]\n",
      "[-0.635  0.    -0.   ]\n",
      "[0.411 0.    0.   ]\n",
      "[-0.048 -0.     0.   ]\n",
      "[ 0.395 -0.    -0.   ]\n",
      "[-1.473 -1.239  0.   ]\n",
      "[ 0.156  0.    -0.   ]\n",
      "[-2.557 -0.17   0.   ]\n",
      "[-0.434 -0.    -0.   ]\n",
      "[-0.651  0.     0.   ]\n",
      "[-1.579 -1.412  0.   ]\n",
      "[ 0.678  0.    -0.   ]\n",
      "[-0.939  0.     0.   ]\n",
      "[ 0.251 -0.    -0.   ]\n",
      "[-0.195  0.    -0.   ]\n",
      "[-0.319  0.    -0.   ]\n",
      "[-0.351  0.    -0.   ]\n",
      "[-0.756  0.    -0.   ]\n",
      "[ 0.157  0.    -0.   ]\n",
      "[-0.455  0.    -0.   ]\n",
      "[-0.461  0.    -0.   ]\n",
      "[-0.569  0.    -0.   ]\n",
      "[-0.32 -0.   -0.  ]\n",
      "[-0.74 -0.   -0.  ]\n",
      "[-0.431  0.    -0.   ]\n",
      "[ 0.408 -0.    -0.   ]\n",
      "[-0.383  0.    -0.   ]\n",
      "[-0.965  0.    -0.   ]\n",
      "[-0.935 -1.434  0.   ]\n",
      "[ 0.288  0.    -0.   ]\n",
      "[-2.411 -0.382 -0.   ]\n",
      "[ 0.123 -0.     0.   ]\n",
      "[ 0.753 -0.     0.   ]\n",
      "[-2.411 -0.507 -0.   ]\n",
      "[0.196 0.    0.   ]\n",
      "[-0.486  0.    -0.   ]\n",
      "[-0.318 -0.     0.   ]\n",
      "[ 0.14  0.   -0.  ]\n",
      "[ 0.029  0.    -0.   ]\n",
      "[0.229 0.    0.   ]\n",
      "[-0.326  0.    -0.   ]\n",
      "[-0.842  0.    -0.   ]\n",
      "[ 0.607  0.    -0.   ]\n",
      "[-0.285  0.    -0.   ]\n",
      "[-2.274 -0.148  0.   ]\n",
      "[ 0.79 -0.   -0.  ]\n",
      "[-0.667  0.    -0.   ]\n",
      "[-0.039  0.    -0.   ]\n",
      "[ 0.847  0.    -0.   ]\n",
      "[ 0.563  0.    -0.   ]\n",
      "[-0.704  0.     0.   ]\n"
     ]
    }
   ],
   "source": [
    "for _ in range(100):\n",
    "    q1 = np.deg2rad(np.random.uniform(-25, 30))\n",
    "    q2 = np.deg2rad(np.random.uniform(-120, 80))\n",
    "    q3 = np.deg2rad(np.random.uniform(-45, 55))\n",
    "    pos = forward_kinematics(q1, q2, q3)\n",
    "    ang = inverse_kinematics(*pos)\n",
    "    # print(\n",
    "    #     [q1, q2, q3],\n",
    "    #     pos,\n",
    "    #     ang\n",
    "    # )\n",
    "    print(np.round(ang - np.array([q1, q2, q3]), 3))"
   ]
  },
  {
   "cell_type": "code",
   "execution_count": null,
   "id": "f9e01a03",
   "metadata": {},
   "outputs": [],
   "source": []
  }
 ],
 "metadata": {
  "kernelspec": {
   "display_name": "torch",
   "language": "python",
   "name": "python3"
  },
  "language_info": {
   "codemirror_mode": {
    "name": "ipython",
    "version": 3
   },
   "file_extension": ".py",
   "mimetype": "text/x-python",
   "name": "python",
   "nbconvert_exporter": "python",
   "pygments_lexer": "ipython3",
   "version": "3.12.8"
  }
 },
 "nbformat": 4,
 "nbformat_minor": 5
}
